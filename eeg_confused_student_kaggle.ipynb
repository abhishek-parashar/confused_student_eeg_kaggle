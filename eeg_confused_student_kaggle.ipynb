{
 "cells": [
  {
   "cell_type": "code",
   "execution_count": 8,
   "metadata": {},
   "outputs": [],
   "source": [
    "import pandas as pd\n",
    "import numpy as np\n",
    "import matplotlib.pyplot as plt\n",
    "%matplotlib inline\n",
    "data = pd.read_csv(\"C:/Users/Abhishek Parashar/Desktop/eeg-brain-wave-for-confusion/EEG_data.csv\")"
   ]
  },
  {
   "cell_type": "code",
   "execution_count": 4,
   "metadata": {},
   "outputs": [
    {
     "data": {
      "text/html": [
       "<div>\n",
       "<style scoped>\n",
       "    .dataframe tbody tr th:only-of-type {\n",
       "        vertical-align: middle;\n",
       "    }\n",
       "\n",
       "    .dataframe tbody tr th {\n",
       "        vertical-align: top;\n",
       "    }\n",
       "\n",
       "    .dataframe thead th {\n",
       "        text-align: right;\n",
       "    }\n",
       "</style>\n",
       "<table border=\"1\" class=\"dataframe\">\n",
       "  <thead>\n",
       "    <tr style=\"text-align: right;\">\n",
       "      <th></th>\n",
       "      <th>SubjectID</th>\n",
       "      <th>VideoID</th>\n",
       "      <th>Attention</th>\n",
       "      <th>Mediation</th>\n",
       "      <th>Raw</th>\n",
       "      <th>Delta</th>\n",
       "      <th>Theta</th>\n",
       "      <th>Alpha1</th>\n",
       "      <th>Alpha2</th>\n",
       "      <th>Beta1</th>\n",
       "      <th>Beta2</th>\n",
       "      <th>Gamma1</th>\n",
       "      <th>Gamma2</th>\n",
       "      <th>predefinedlabel</th>\n",
       "      <th>user-definedlabeln</th>\n",
       "    </tr>\n",
       "  </thead>\n",
       "  <tbody>\n",
       "    <tr>\n",
       "      <th>0</th>\n",
       "      <td>0.0</td>\n",
       "      <td>0.0</td>\n",
       "      <td>56.0</td>\n",
       "      <td>43.0</td>\n",
       "      <td>278.0</td>\n",
       "      <td>301963.0</td>\n",
       "      <td>90612.0</td>\n",
       "      <td>33735.0</td>\n",
       "      <td>23991.0</td>\n",
       "      <td>27946.0</td>\n",
       "      <td>45097.0</td>\n",
       "      <td>33228.0</td>\n",
       "      <td>8293.0</td>\n",
       "      <td>0.0</td>\n",
       "      <td>0.0</td>\n",
       "    </tr>\n",
       "    <tr>\n",
       "      <th>1</th>\n",
       "      <td>0.0</td>\n",
       "      <td>0.0</td>\n",
       "      <td>40.0</td>\n",
       "      <td>35.0</td>\n",
       "      <td>-50.0</td>\n",
       "      <td>73787.0</td>\n",
       "      <td>28083.0</td>\n",
       "      <td>1439.0</td>\n",
       "      <td>2240.0</td>\n",
       "      <td>2746.0</td>\n",
       "      <td>3687.0</td>\n",
       "      <td>5293.0</td>\n",
       "      <td>2740.0</td>\n",
       "      <td>0.0</td>\n",
       "      <td>0.0</td>\n",
       "    </tr>\n",
       "    <tr>\n",
       "      <th>2</th>\n",
       "      <td>0.0</td>\n",
       "      <td>0.0</td>\n",
       "      <td>47.0</td>\n",
       "      <td>48.0</td>\n",
       "      <td>101.0</td>\n",
       "      <td>758353.0</td>\n",
       "      <td>383745.0</td>\n",
       "      <td>201999.0</td>\n",
       "      <td>62107.0</td>\n",
       "      <td>36293.0</td>\n",
       "      <td>130536.0</td>\n",
       "      <td>57243.0</td>\n",
       "      <td>25354.0</td>\n",
       "      <td>0.0</td>\n",
       "      <td>0.0</td>\n",
       "    </tr>\n",
       "    <tr>\n",
       "      <th>3</th>\n",
       "      <td>0.0</td>\n",
       "      <td>0.0</td>\n",
       "      <td>47.0</td>\n",
       "      <td>57.0</td>\n",
       "      <td>-5.0</td>\n",
       "      <td>2012240.0</td>\n",
       "      <td>129350.0</td>\n",
       "      <td>61236.0</td>\n",
       "      <td>17084.0</td>\n",
       "      <td>11488.0</td>\n",
       "      <td>62462.0</td>\n",
       "      <td>49960.0</td>\n",
       "      <td>33932.0</td>\n",
       "      <td>0.0</td>\n",
       "      <td>0.0</td>\n",
       "    </tr>\n",
       "    <tr>\n",
       "      <th>4</th>\n",
       "      <td>0.0</td>\n",
       "      <td>0.0</td>\n",
       "      <td>44.0</td>\n",
       "      <td>53.0</td>\n",
       "      <td>-8.0</td>\n",
       "      <td>1005145.0</td>\n",
       "      <td>354328.0</td>\n",
       "      <td>37102.0</td>\n",
       "      <td>88881.0</td>\n",
       "      <td>45307.0</td>\n",
       "      <td>99603.0</td>\n",
       "      <td>44790.0</td>\n",
       "      <td>29749.0</td>\n",
       "      <td>0.0</td>\n",
       "      <td>0.0</td>\n",
       "    </tr>\n",
       "  </tbody>\n",
       "</table>\n",
       "</div>"
      ],
      "text/plain": [
       "   SubjectID  VideoID  Attention  Mediation    Raw      Delta     Theta  \\\n",
       "0        0.0      0.0       56.0       43.0  278.0   301963.0   90612.0   \n",
       "1        0.0      0.0       40.0       35.0  -50.0    73787.0   28083.0   \n",
       "2        0.0      0.0       47.0       48.0  101.0   758353.0  383745.0   \n",
       "3        0.0      0.0       47.0       57.0   -5.0  2012240.0  129350.0   \n",
       "4        0.0      0.0       44.0       53.0   -8.0  1005145.0  354328.0   \n",
       "\n",
       "     Alpha1   Alpha2    Beta1     Beta2   Gamma1   Gamma2  predefinedlabel  \\\n",
       "0   33735.0  23991.0  27946.0   45097.0  33228.0   8293.0              0.0   \n",
       "1    1439.0   2240.0   2746.0    3687.0   5293.0   2740.0              0.0   \n",
       "2  201999.0  62107.0  36293.0  130536.0  57243.0  25354.0              0.0   \n",
       "3   61236.0  17084.0  11488.0   62462.0  49960.0  33932.0              0.0   \n",
       "4   37102.0  88881.0  45307.0   99603.0  44790.0  29749.0              0.0   \n",
       "\n",
       "   user-definedlabeln  \n",
       "0                 0.0  \n",
       "1                 0.0  \n",
       "2                 0.0  \n",
       "3                 0.0  \n",
       "4                 0.0  "
      ]
     },
     "execution_count": 4,
     "metadata": {},
     "output_type": "execute_result"
    }
   ],
   "source": [
    "data.head()\n"
   ]
  },
  {
   "cell_type": "code",
   "execution_count": 5,
   "metadata": {},
   "outputs": [
    {
     "name": "stdout",
     "output_type": "stream",
     "text": [
      "<class 'pandas.core.frame.DataFrame'>\n",
      "RangeIndex: 12811 entries, 0 to 12810\n",
      "Data columns (total 15 columns):\n",
      "SubjectID             12811 non-null float64\n",
      "VideoID               12811 non-null float64\n",
      "Attention             12811 non-null float64\n",
      "Mediation             12811 non-null float64\n",
      "Raw                   12811 non-null float64\n",
      "Delta                 12811 non-null float64\n",
      "Theta                 12811 non-null float64\n",
      "Alpha1                12811 non-null float64\n",
      "Alpha2                12811 non-null float64\n",
      "Beta1                 12811 non-null float64\n",
      "Beta2                 12811 non-null float64\n",
      "Gamma1                12811 non-null float64\n",
      "Gamma2                12811 non-null float64\n",
      "predefinedlabel       12811 non-null float64\n",
      "user-definedlabeln    12811 non-null float64\n",
      "dtypes: float64(15)\n",
      "memory usage: 1.5 MB\n"
     ]
    }
   ],
   "source": [
    "data.info()\n"
   ]
  },
  {
   "cell_type": "code",
   "execution_count": 5,
   "metadata": {},
   "outputs": [
    {
     "data": {
      "text/plain": [
       "<matplotlib.axes._subplots.AxesSubplot at 0x1b7328615c0>"
      ]
     },
     "execution_count": 5,
     "metadata": {},
     "output_type": "execute_result"
    },
    {
     "data": {
      "image/png": "[encoded data removed]",
      "text/plain": [
       "<Figure size 432x288 with 1 Axes>"
      ]
     },
     "metadata": {
      "needs_background": "light"
     },
     "output_type": "display_data"
    }
   ],
   "source": [
    "data.plot()\n"
   ]
  },
  {
   "cell_type": "code",
   "execution_count": 6,
   "metadata": {},
   "outputs": [
    {
     "data": {
      "text/plain": [
       "<matplotlib.axes._subplots.AxesSubplot at 0x1b20678f6d8>"
      ]
     },
     "execution_count": 6,
     "metadata": {},
     "output_type": "execute_result"
    },
    {
     "data": {
      "image/png": "[encoded data removed]",
      "text/plain": [
       "<Figure size 432x288 with 1 Axes>"
      ]
     },
     "metadata": {
      "needs_background": "light"
     },
     "output_type": "display_data"
    }
   ],
   "source": [
    "data.head().plot()"
   ]
  },
  {
   "cell_type": "code",
   "execution_count": 7,
   "metadata": {},
   "outputs": [
    {
     "data": {
      "text/html": [
       "<div>\n",
       "<style scoped>\n",
       "    .dataframe tbody tr th:only-of-type {\n",
       "        vertical-align: middle;\n",
       "    }\n",
       "\n",
       "    .dataframe tbody tr th {\n",
       "        vertical-align: top;\n",
       "    }\n",
       "\n",
       "    .dataframe thead th {\n",
       "        text-align: right;\n",
       "    }\n",
       "</style>\n",
       "<table border=\"1\" class=\"dataframe\">\n",
       "  <thead>\n",
       "    <tr style=\"text-align: right;\">\n",
       "      <th></th>\n",
       "      <th>SubjectID</th>\n",
       "      <th>VideoID</th>\n",
       "      <th>Attention</th>\n",
       "      <th>Mediation</th>\n",
       "      <th>Raw</th>\n",
       "      <th>Delta</th>\n",
       "      <th>Theta</th>\n",
       "      <th>Alpha1</th>\n",
       "      <th>Alpha2</th>\n",
       "      <th>Beta1</th>\n",
       "      <th>Beta2</th>\n",
       "      <th>Gamma1</th>\n",
       "      <th>Gamma2</th>\n",
       "      <th>predefinedlabel</th>\n",
       "      <th>user-definedlabeln</th>\n",
       "    </tr>\n",
       "  </thead>\n",
       "  <tbody>\n",
       "    <tr>\n",
       "      <th>count</th>\n",
       "      <td>12811.000000</td>\n",
       "      <td>12811.000000</td>\n",
       "      <td>12811.000000</td>\n",
       "      <td>12811.000000</td>\n",
       "      <td>12811.000000</td>\n",
       "      <td>1.281100e+04</td>\n",
       "      <td>1.281100e+04</td>\n",
       "      <td>1.281100e+04</td>\n",
       "      <td>1.281100e+04</td>\n",
       "      <td>1.281100e+04</td>\n",
       "      <td>1.281100e+04</td>\n",
       "      <td>1.281100e+04</td>\n",
       "      <td>1.281100e+04</td>\n",
       "      <td>12811.000000</td>\n",
       "      <td>12811.000000</td>\n",
       "    </tr>\n",
       "    <tr>\n",
       "      <th>mean</th>\n",
       "      <td>4.487394</td>\n",
       "      <td>4.390602</td>\n",
       "      <td>41.313871</td>\n",
       "      <td>47.182656</td>\n",
       "      <td>65.570760</td>\n",
       "      <td>6.057853e+05</td>\n",
       "      <td>1.680526e+05</td>\n",
       "      <td>4.138435e+04</td>\n",
       "      <td>3.318339e+04</td>\n",
       "      <td>2.431837e+04</td>\n",
       "      <td>3.814433e+04</td>\n",
       "      <td>2.959255e+04</td>\n",
       "      <td>1.441597e+04</td>\n",
       "      <td>0.479978</td>\n",
       "      <td>0.512606</td>\n",
       "    </tr>\n",
       "    <tr>\n",
       "      <th>std</th>\n",
       "      <td>2.865373</td>\n",
       "      <td>2.913232</td>\n",
       "      <td>23.152953</td>\n",
       "      <td>22.655976</td>\n",
       "      <td>597.921035</td>\n",
       "      <td>6.376236e+05</td>\n",
       "      <td>2.441346e+05</td>\n",
       "      <td>7.243082e+04</td>\n",
       "      <td>5.831410e+04</td>\n",
       "      <td>3.837968e+04</td>\n",
       "      <td>7.906606e+04</td>\n",
       "      <td>7.982637e+04</td>\n",
       "      <td>3.603523e+04</td>\n",
       "      <td>0.499618</td>\n",
       "      <td>0.499861</td>\n",
       "    </tr>\n",
       "    <tr>\n",
       "      <th>min</th>\n",
       "      <td>0.000000</td>\n",
       "      <td>0.000000</td>\n",
       "      <td>0.000000</td>\n",
       "      <td>0.000000</td>\n",
       "      <td>-2048.000000</td>\n",
       "      <td>4.480000e+02</td>\n",
       "      <td>1.700000e+01</td>\n",
       "      <td>2.000000e+00</td>\n",
       "      <td>2.000000e+00</td>\n",
       "      <td>3.000000e+00</td>\n",
       "      <td>2.000000e+00</td>\n",
       "      <td>1.000000e+00</td>\n",
       "      <td>2.000000e+00</td>\n",
       "      <td>0.000000</td>\n",
       "      <td>0.000000</td>\n",
       "    </tr>\n",
       "    <tr>\n",
       "      <th>25%</th>\n",
       "      <td>2.000000</td>\n",
       "      <td>2.000000</td>\n",
       "      <td>27.000000</td>\n",
       "      <td>37.000000</td>\n",
       "      <td>-14.000000</td>\n",
       "      <td>9.806400e+04</td>\n",
       "      <td>2.691750e+04</td>\n",
       "      <td>6.838000e+03</td>\n",
       "      <td>6.852000e+03</td>\n",
       "      <td>6.140000e+03</td>\n",
       "      <td>7.358500e+03</td>\n",
       "      <td>4.058000e+03</td>\n",
       "      <td>2.167500e+03</td>\n",
       "      <td>0.000000</td>\n",
       "      <td>0.000000</td>\n",
       "    </tr>\n",
       "    <tr>\n",
       "      <th>50%</th>\n",
       "      <td>4.000000</td>\n",
       "      <td>4.000000</td>\n",
       "      <td>43.000000</td>\n",
       "      <td>51.000000</td>\n",
       "      <td>35.000000</td>\n",
       "      <td>3.954870e+05</td>\n",
       "      <td>8.133100e+04</td>\n",
       "      <td>1.750000e+04</td>\n",
       "      <td>1.495900e+04</td>\n",
       "      <td>1.281800e+04</td>\n",
       "      <td>1.581000e+04</td>\n",
       "      <td>9.763000e+03</td>\n",
       "      <td>5.116000e+03</td>\n",
       "      <td>0.000000</td>\n",
       "      <td>1.000000</td>\n",
       "    </tr>\n",
       "    <tr>\n",
       "      <th>75%</th>\n",
       "      <td>7.000000</td>\n",
       "      <td>7.000000</td>\n",
       "      <td>57.000000</td>\n",
       "      <td>63.000000</td>\n",
       "      <td>90.000000</td>\n",
       "      <td>9.166230e+05</td>\n",
       "      <td>2.052760e+05</td>\n",
       "      <td>4.477950e+04</td>\n",
       "      <td>3.455050e+04</td>\n",
       "      <td>2.740600e+04</td>\n",
       "      <td>3.549400e+04</td>\n",
       "      <td>2.488800e+04</td>\n",
       "      <td>1.266950e+04</td>\n",
       "      <td>1.000000</td>\n",
       "      <td>1.000000</td>\n",
       "    </tr>\n",
       "    <tr>\n",
       "      <th>max</th>\n",
       "      <td>9.000000</td>\n",
       "      <td>9.000000</td>\n",
       "      <td>100.000000</td>\n",
       "      <td>100.000000</td>\n",
       "      <td>2047.000000</td>\n",
       "      <td>3.964663e+06</td>\n",
       "      <td>3.007802e+06</td>\n",
       "      <td>1.369955e+06</td>\n",
       "      <td>1.016913e+06</td>\n",
       "      <td>1.067778e+06</td>\n",
       "      <td>1.645369e+06</td>\n",
       "      <td>1.972506e+06</td>\n",
       "      <td>1.348117e+06</td>\n",
       "      <td>1.000000</td>\n",
       "      <td>1.000000</td>\n",
       "    </tr>\n",
       "  </tbody>\n",
       "</table>\n",
       "</div>"
      ],
      "text/plain": [
       "          SubjectID       VideoID     Attention     Mediation           Raw  \\\n",
       "count  12811.000000  12811.000000  12811.000000  12811.000000  12811.000000   \n",
       "mean       4.487394      4.390602     41.313871     47.182656     65.570760   \n",
       "std        2.865373      2.913232     23.152953     22.655976    597.921035   \n",
       "min        0.000000      0.000000      0.000000      0.000000  -2048.000000   \n",
       "25%        2.000000      2.000000     27.000000     37.000000    -14.000000   \n",
       "50%        4.000000      4.000000     43.000000     51.000000     35.000000   \n",
       "75%        7.000000      7.000000     57.000000     63.000000     90.000000   \n",
       "max        9.000000      9.000000    100.000000    100.000000   2047.000000   \n",
       "\n",
       "              Delta         Theta        Alpha1        Alpha2         Beta1  \\\n",
       "count  1.281100e+04  1.281100e+04  1.281100e+04  1.281100e+04  1.281100e+04   \n",
       "mean   6.057853e+05  1.680526e+05  4.138435e+04  3.318339e+04  2.431837e+04   \n",
       "std    6.376236e+05  2.441346e+05  7.243082e+04  5.831410e+04  3.837968e+04   \n",
       "min    4.480000e+02  1.700000e+01  2.000000e+00  2.000000e+00  3.000000e+00   \n",
       "25%    9.806400e+04  2.691750e+04  6.838000e+03  6.852000e+03  6.140000e+03   \n",
       "50%    3.954870e+05  8.133100e+04  1.750000e+04  1.495900e+04  1.281800e+04   \n",
       "75%    9.166230e+05  2.052760e+05  4.477950e+04  3.455050e+04  2.740600e+04   \n",
       "max    3.964663e+06  3.007802e+06  1.369955e+06  1.016913e+06  1.067778e+06   \n",
       "\n",
       "              Beta2        Gamma1        Gamma2  predefinedlabel  \\\n",
       "count  1.281100e+04  1.281100e+04  1.281100e+04     12811.000000   \n",
       "mean   3.814433e+04  2.959255e+04  1.441597e+04         0.479978   \n",
       "std    7.906606e+04  7.982637e+04  3.603523e+04         0.499618   \n",
       "min    2.000000e+00  1.000000e+00  2.000000e+00         0.000000   \n",
       "25%    7.358500e+03  4.058000e+03  2.167500e+03         0.000000   \n",
       "50%    1.581000e+04  9.763000e+03  5.116000e+03         0.000000   \n",
       "75%    3.549400e+04  2.488800e+04  1.266950e+04         1.000000   \n",
       "max    1.645369e+06  1.972506e+06  1.348117e+06         1.000000   \n",
       "\n",
       "       user-definedlabeln  \n",
       "count        12811.000000  \n",
       "mean             0.512606  \n",
       "std              0.499861  \n",
       "min              0.000000  \n",
       "25%              0.000000  \n",
       "50%              1.000000  \n",
       "75%              1.000000  \n",
       "max              1.000000  "
      ]
     },
     "execution_count": 7,
     "metadata": {},
     "output_type": "execute_result"
    }
   ],
   "source": [
    "data.describe()"
   ]
  },
  {
   "cell_type": "code",
   "execution_count": 9,
   "metadata": {},
   "outputs": [],
   "source": [
    "df=pd.DataFrame(data)"
   ]
  },
  {
   "cell_type": "code",
   "execution_count": 9,
   "metadata": {},
   "outputs": [
    {
     "data": {
      "text/plain": [
       "Index(['SubjectID', 'VideoID', 'Attention', 'Mediation', 'Raw', 'Delta',\n",
       "       'Theta', 'Alpha1', 'Alpha2', 'Beta1', 'Beta2', 'Gamma1', 'Gamma2',\n",
       "       'predefinedlabel', 'user-definedlabeln'],\n",
       "      dtype='object')"
      ]
     },
     "execution_count": 9,
     "metadata": {},
     "output_type": "execute_result"
    }
   ],
   "source": [
    "df.columns"
   ]
  },
  {
   "cell_type": "code",
   "execution_count": 10,
   "metadata": {},
   "outputs": [
    {
     "name": "stdout",
     "output_type": "stream",
     "text": [
      "[0. 1.]\n"
     ]
    }
   ],
   "source": [
    "print(data['user-definedlabeln'].unique())"
   ]
  },
  {
   "cell_type": "code",
   "execution_count": 11,
   "metadata": {},
   "outputs": [
    {
     "data": {
      "text/plain": [
       "<matplotlib.axes._subplots.AxesSubplot at 0x1b20bb92588>"
      ]
     },
     "execution_count": 11,
     "metadata": {},
     "output_type": "execute_result"
    },
    {
     "data": {
      "image/png": "[encoded data removed]",
      "text/plain": [
       "<Figure size 432x288 with 1 Axes>"
      ]
     },
     "metadata": {
      "needs_background": "light"
     },
     "output_type": "display_data"
    }
   ],
   "source": [
    "df['Theta'].plot()"
   ]
  },
  {
   "cell_type": "code",
   "execution_count": 12,
   "metadata": {},
   "outputs": [
    {
     "name": "stdout",
     "output_type": "stream",
     "text": [
      "Theta\n",
      "17.0         1.0\n",
      "25.0         1.0\n",
      "121.0        1.0\n",
      "694.0        0.0\n",
      "1068.0       1.0\n",
      "1074.0       1.0\n",
      "1095.0       0.0\n",
      "1136.0       0.0\n",
      "1172.0       0.0\n",
      "1202.0       0.0\n",
      "1392.0       0.0\n",
      "1410.0       0.0\n",
      "1507.0       1.0\n",
      "1523.0       0.0\n",
      "1551.0       0.0\n",
      "1579.0       0.0\n",
      "1607.0       1.0\n",
      "1621.0       1.0\n",
      "1661.0       0.0\n",
      "1679.0       0.0\n",
      "1731.0       1.0\n",
      "1753.0       1.0\n",
      "1755.0       1.0\n",
      "1756.0       0.0\n",
      "1767.0       0.0\n",
      "1771.0       0.0\n",
      "1835.0       0.0\n",
      "1863.0       1.0\n",
      "1881.0       0.0\n",
      "1910.0       0.0\n",
      "            ... \n",
      "1779277.0    1.0\n",
      "1798493.0    1.0\n",
      "1811549.0    1.0\n",
      "1812829.0    1.0\n",
      "1817290.0    0.0\n",
      "1829193.0    1.0\n",
      "1839474.0    1.0\n",
      "1841883.0    1.0\n",
      "1847796.0    1.0\n",
      "1871424.0    1.0\n",
      "1879464.0    1.0\n",
      "1879573.0    0.0\n",
      "1883497.0    1.0\n",
      "1929041.0    1.0\n",
      "1939444.0    1.0\n",
      "2019044.0    1.0\n",
      "2041282.0    0.0\n",
      "2072628.0    1.0\n",
      "2072951.0    1.0\n",
      "2081583.0    0.0\n",
      "2085085.0    1.0\n",
      "2145547.0    1.0\n",
      "2145701.0    1.0\n",
      "2246933.0    0.0\n",
      "2260305.0    1.0\n",
      "2321736.0    1.0\n",
      "2417589.0    1.0\n",
      "2474642.0    0.0\n",
      "2567643.0    1.0\n",
      "3007802.0    1.0\n",
      "Name: user-definedlabeln, Length: 12070, dtype: float64\n",
      "       user-definedlabeln\n",
      "count        12070.000000\n",
      "mean             0.499524\n",
      "std              0.496853\n",
      "min              0.000000\n",
      "25%              0.000000\n",
      "50%              0.500000\n",
      "75%              1.000000\n",
      "max              1.000000\n"
     ]
    },
    {
     "data": {
      "text/plain": [
       "<matplotlib.axes._subplots.AxesSubplot at 0x1b20bb73c18>"
      ]
     },
     "execution_count": 12,
     "metadata": {},
     "output_type": "execute_result"
    },
    {
     "data": {
      "image/png": "[encoded data removed]",
      "text/plain": [
       "<Figure size 432x288 with 1 Axes>"
      ]
     },
     "metadata": {
      "needs_background": "light"
     },
     "output_type": "display_data"
    }
   ],
   "source": [
    "gr1=df.groupby('Theta')['user-definedlabeln'].mean()\n",
    "print(gr1)\n",
    "grp1=pd.DataFrame(gr1)\n",
    "print(grp1.describe())\n",
    "grp1.head(300).plot()\n"
   ]
  },
  {
   "cell_type": "code",
   "execution_count": 13,
   "metadata": {},
   "outputs": [
    {
     "name": "stdout",
     "output_type": "stream",
     "text": [
      "Alpha1\n",
      "2.0          1.0\n",
      "3.0          1.0\n",
      "25.0         1.0\n",
      "73.0         1.0\n",
      "75.0         0.0\n",
      "77.0         0.0\n",
      "91.0         1.0\n",
      "134.0        1.0\n",
      "146.0        1.0\n",
      "162.0        0.0\n",
      "163.0        0.0\n",
      "185.0        0.0\n",
      "204.0        1.0\n",
      "211.0        0.0\n",
      "218.0        1.0\n",
      "226.0        1.0\n",
      "233.0        0.0\n",
      "237.0        1.0\n",
      "247.0        1.0\n",
      "254.0        1.0\n",
      "261.0        0.0\n",
      "265.0        0.0\n",
      "266.0        0.0\n",
      "286.0        1.0\n",
      "299.0        0.0\n",
      "300.0        1.0\n",
      "314.0        1.0\n",
      "316.0        0.0\n",
      "317.0        0.0\n",
      "326.0        1.0\n",
      "            ... \n",
      "603030.0     1.0\n",
      "605955.0     1.0\n",
      "609017.0     0.0\n",
      "609036.0     1.0\n",
      "620928.0     1.0\n",
      "631203.0     1.0\n",
      "633801.0     1.0\n",
      "639118.0     0.0\n",
      "641482.0     1.0\n",
      "657787.0     1.0\n",
      "663125.0     1.0\n",
      "673206.0     1.0\n",
      "684034.0     1.0\n",
      "688328.0     1.0\n",
      "695924.0     1.0\n",
      "710859.0     1.0\n",
      "732529.0     1.0\n",
      "748018.0     1.0\n",
      "760979.0     1.0\n",
      "831034.0     0.0\n",
      "843805.0     1.0\n",
      "850147.0     1.0\n",
      "853451.0     1.0\n",
      "878352.0     0.0\n",
      "908710.0     1.0\n",
      "992457.0     1.0\n",
      "1089428.0    1.0\n",
      "1143171.0    1.0\n",
      "1317733.0    0.0\n",
      "1369955.0    1.0\n",
      "Name: user-definedlabeln, Length: 11140, dtype: float64\n",
      "       user-definedlabeln\n",
      "count        11140.000000\n",
      "mean             0.503574\n",
      "std              0.486850\n",
      "min              0.000000\n",
      "25%              0.000000\n",
      "50%              0.500000\n",
      "75%              1.000000\n",
      "max              1.000000\n"
     ]
    },
    {
     "data": {
      "text/plain": [
       "<matplotlib.axes._subplots.AxesSubplot at 0x1b20bc4e278>"
      ]
     },
     "execution_count": 13,
     "metadata": {},
     "output_type": "execute_result"
    },
    {
     "data": {
      "image/png": "[encoded data removed]",
      "text/plain": [
       "<Figure size 432x288 with 1 Axes>"
      ]
     },
     "metadata": {
      "needs_background": "light"
     },
     "output_type": "display_data"
    }
   ],
   "source": [
    "gr2=df.groupby('Alpha1')['user-definedlabeln'].mean()\n",
    "print(gr2)\n",
    "grp2=pd.DataFrame(gr2)\n",
    "print(grp2.describe())\n",
    "grp2.head(300).plot()"
   ]
  },
  {
   "cell_type": "code",
   "execution_count": 14,
   "metadata": {},
   "outputs": [
    {
     "name": "stdout",
     "output_type": "stream",
     "text": [
      "Alpha2\n",
      "2.0          1.0\n",
      "10.0         1.0\n",
      "167.0        1.0\n",
      "200.0        1.0\n",
      "205.0        1.0\n",
      "247.0        1.0\n",
      "298.0        1.0\n",
      "317.0        1.0\n",
      "330.0        1.0\n",
      "353.0        0.0\n",
      "356.0        1.0\n",
      "384.0        0.0\n",
      "388.0        1.0\n",
      "392.0        0.0\n",
      "419.0        0.0\n",
      "436.0        0.0\n",
      "464.0        0.0\n",
      "467.0        0.0\n",
      "484.0        0.0\n",
      "501.0        0.0\n",
      "507.0        1.0\n",
      "510.0        0.0\n",
      "519.0        1.0\n",
      "521.0        1.0\n",
      "526.0        0.0\n",
      "540.0        1.0\n",
      "543.0        1.0\n",
      "554.0        0.0\n",
      "569.0        1.0\n",
      "571.0        0.0\n",
      "            ... \n",
      "538215.0     1.0\n",
      "541128.0     1.0\n",
      "541368.0     1.0\n",
      "545947.0     1.0\n",
      "547180.0     1.0\n",
      "568402.0     0.0\n",
      "575099.0     1.0\n",
      "579445.0     1.0\n",
      "579732.0     1.0\n",
      "581528.0     1.0\n",
      "598833.0     1.0\n",
      "601948.0     1.0\n",
      "611177.0     1.0\n",
      "639718.0     0.0\n",
      "640280.0     1.0\n",
      "645611.0     0.0\n",
      "653201.0     1.0\n",
      "655240.0     1.0\n",
      "678607.0     0.0\n",
      "690373.0     1.0\n",
      "710261.0     1.0\n",
      "721342.0     1.0\n",
      "722970.0     1.0\n",
      "769206.0     1.0\n",
      "786017.0     1.0\n",
      "812503.0     1.0\n",
      "851452.0     1.0\n",
      "854767.0     1.0\n",
      "866385.0     1.0\n",
      "1016913.0    1.0\n",
      "Name: user-definedlabeln, Length: 10910, dtype: float64\n",
      "       user-definedlabeln\n",
      "count        10910.000000\n",
      "mean             0.503755\n",
      "std              0.483856\n",
      "min              0.000000\n",
      "25%              0.000000\n",
      "50%              0.500000\n",
      "75%              1.000000\n",
      "max              1.000000\n"
     ]
    },
    {
     "data": {
      "text/plain": [
       "<matplotlib.axes._subplots.AxesSubplot at 0x1b20bba55f8>"
      ]
     },
     "execution_count": 14,
     "metadata": {},
     "output_type": "execute_result"
    },
    {
     "data": {
      "image/png": "[encoded data removed]",
      "text/plain": [
       "<Figure size 432x288 with 1 Axes>"
      ]
     },
     "metadata": {
      "needs_background": "light"
     },
     "output_type": "display_data"
    }
   ],
   "source": [
    "gr3=df.groupby('Alpha2')['user-definedlabeln'].mean()\n",
    "print(gr3)\n",
    "grp3=pd.DataFrame(gr3)\n",
    "print(grp3.describe())\n",
    "grp3.head(300).plot()"
   ]
  },
  {
   "cell_type": "code",
   "execution_count": 10,
   "metadata": {},
   "outputs": [],
   "source": [
    "###testing the acuuracy for the first timw will do the other preprocessing later ones the accuracy is seen \n",
    "X_int=df.drop('user-definedlabeln',axis=1).values\n",
    "Y_int=df['user-definedlabeln'].values"
   ]
  },
  {
   "cell_type": "code",
   "execution_count": 11,
   "metadata": {},
   "outputs": [],
   "source": [
    "from sklearn.model_selection import train_test_split\n",
    "X_train, X_test, y_train, y_test = train_test_split(X_int,Y_int, test_size=0.2,random_state=42)"
   ]
  },
  {
   "cell_type": "code",
   "execution_count": 17,
   "metadata": {},
   "outputs": [
    {
     "name": "stdout",
     "output_type": "stream",
     "text": [
      "0.5626951092611863\n",
      "0.6011966701352758\n",
      "0.6079604578563996\n",
      "0.6024973985431842\n",
      "0.6071800208116546\n",
      "0.609261186264308\n",
      "0.6347554630593132\n",
      "0.6334547346514048\n",
      "0.6269510926118627\n",
      "0.6243496357960457\n",
      "0.6238293444328824\n",
      "0.6259105098855359\n",
      "0.6227887617065556\n",
      "0.6233090530697191\n",
      "0.6209677419354839\n",
      "0.6212278876170656\n",
      "0.6186264308012487\n",
      "0.6212278876170656\n",
      "0.6220083246618107\n",
      "0.6196670135275755\n",
      "0.618366285119667\n",
      "0.619146722164412\n",
      "0.622528616024974\n",
      "0.6230489073881373\n",
      "0.6235691987513007\n",
      "0.627471383975026\n",
      "0.6305931321540063\n",
      "0.6272112382934444\n",
      "0.631633714880333\n",
      "0.6318938605619147\n",
      "0.6269510926118627\n",
      "0.6233090530697191\n",
      "0.6204474505723205\n",
      "0.6173257023933403\n",
      "0.6162851196670135\n",
      "0.61420395421436\n",
      "0.618366285119667\n",
      "0.6204474505723205\n",
      "0.6168054110301769\n",
      "0.6227887617065556\n",
      "0.6204474505723205\n",
      "0.6261706555671176\n",
      "0.6246097814776275\n",
      "0.6243496357960457\n",
      "0.6243496357960457\n",
      "0.6222684703433923\n",
      "0.6235691987513007\n",
      "0.622528616024974\n",
      "0.622528616024974\n"
     ]
    }
   ],
   "source": [
    "from sklearn.ensemble import RandomForestClassifier\n",
    "for i in range(1,50):\n",
    "    clf=RandomForestClassifier(n_estimators=i,max_depth=2,random_state=13)\n",
    "    clf.fit(X_train,y_train)\n",
    "    clf.predict(X_test)\n",
    "    scr=clf.score(X_test,y_test)\n",
    "    print(scr)\n"
   ]
  },
  {
   "cell_type": "code",
   "execution_count": 20,
   "metadata": {},
   "outputs": [
    {
     "name": "stderr",
     "output_type": "stream",
     "text": [
      "C:\\Users\\Intern\\Anaconda3\\lib\\site-packages\\sklearn\\svm\\base.py:196: FutureWarning: The default value of gamma will change from 'auto' to 'scale' in version 0.22 to account better for unscaled features. Set gamma explicitly to 'auto' or 'scale' to avoid this warning.\n",
      "  \"avoid this warning.\", FutureWarning)\n"
     ]
    },
    {
     "data": {
      "text/plain": [
       "0.5075442247658689"
      ]
     },
     "execution_count": 20,
     "metadata": {},
     "output_type": "execute_result"
    }
   ],
   "source": [
    "from sklearn import svm\n",
    "clf = svm.SVC()\n",
    "clf.fit(X_train,y_train)\n",
    "preds = clf.predict(X_test)\n",
    "clf.score(X_test, y_test)\n"
   ]
  },
  {
   "cell_type": "code",
   "execution_count": null,
   "metadata": {},
   "outputs": [],
   "source": [
    "clf = svm.SVC(kernel=\"linear\", random_state=24)\n",
    "clf.fit(X_train,y_train)\n",
    "preds = clf.predict(X_test)\n",
    "print(clf.score(X_test, y_test)\n",
    "        "
   ]
  },
  {
   "cell_type": "code",
   "execution_count": null,
   "metadata": {},
   "outputs": [],
   "source": [
    "clf = svm.SVC(kernel=\"rbf\", random_state=24)\n",
    "clf.fit(X_train,y_train)\n",
    "preds = clf.predict(X_test)\n",
    "print(clf.score(X_test, y_test) "
   ]
  },
  {
   "cell_type": "code",
   "execution_count": 23,
   "metadata": {},
   "outputs": [
    {
     "name": "stdout",
     "output_type": "stream",
     "text": [
      "Requirement already satisfied: xgboost in c:\\users\\intern\\anaconda3\\lib\\site-packages (0.90)\n",
      "Requirement already satisfied: numpy in c:\\users\\intern\\anaconda3\\lib\\site-packages (from xgboost) (1.16.2)\n",
      "Requirement already satisfied: scipy in c:\\users\\intern\\anaconda3\\lib\\site-packages (from xgboost) (1.2.1)\n",
      "Note: you may need to restart the kernel to use updated packages.\n"
     ]
    }
   ],
   "source": [
    "pip install xgboost\n"
   ]
  },
  {
   "cell_type": "code",
   "execution_count": 18,
   "metadata": {},
   "outputs": [
    {
     "name": "stdout",
     "output_type": "stream",
     "text": [
      "[1. 0. 1. ... 0. 0. 1.]\n"
     ]
    },
    {
     "data": {
      "text/plain": [
       "0.9910261412407335"
      ]
     },
     "execution_count": 18,
     "metadata": {},
     "output_type": "execute_result"
    }
   ],
   "source": [
    "import xgboost as xgb\n",
    "\n",
    "xg = xgb.XGBClassifier(objective='binary:logistic', n_estimators=1000, seed=1)\n",
    "xg.fit(X_train,y_train)\n",
    "print(xg.predict(X_test))\n",
    "xg.score(X_test,y_test)\n"
   ]
  },
  {
   "cell_type": "code",
   "execution_count": 26,
   "metadata": {},
   "outputs": [],
   "source": [
    "df = pd.read_csv(\"C:/Users/Intern/Desktop/abhishek parashar/eegdata/EEG_data.csv\")\n",
    "subs=pd.read_csv(\"C:/Users/Intern/Desktop/abhishek parashar/eegdata/demographic_info.csv\")"
   ]
  },
  {
   "cell_type": "code",
   "execution_count": 27,
   "metadata": {},
   "outputs": [
    {
     "name": "stdout",
     "output_type": "stream",
     "text": [
      "['SubjectID' 'VideoID' 'Attention' 'Mediation' 'Raw' 'Delta' 'Theta'\n",
      " 'Alpha1' 'Alpha2' 'Beta1' 'Beta2' 'Gamma1' 'Gamma2' 'predefinedlabel'\n",
      " 'user-definedlabeln']\n",
      "(12811, 15)\n",
      "['subject ID' ' age' ' ethnicity' ' gender']\n"
     ]
    }
   ],
   "source": [
    "print(df.columns.values)\n",
    "print(df.shape)\n",
    "print(subs.columns.values)"
   ]
  },
  {
   "cell_type": "code",
   "execution_count": 28,
   "metadata": {},
   "outputs": [
    {
     "name": "stdout",
     "output_type": "stream",
     "text": [
      "['SubjectID' 'VideoID' 'Attention' 'Mediation' 'Raw' 'Delta' 'Theta'\n",
      " 'Alpha1' 'Alpha2' 'Beta1' 'Beta2' 'Gamma1' 'Gamma2' 'predefinedlabel'\n",
      " 'user-definedlabeln']\n"
     ]
    }
   ],
   "source": [
    "df.rename(columns={'0.000000000000000000e+00':'subject ID'},inplace=True)\n",
    "\n",
    "print(df.columns.values)"
   ]
  },
  {
   "cell_type": "code",
   "execution_count": 29,
   "metadata": {},
   "outputs": [
    {
     "name": "stdout",
     "output_type": "stream",
     "text": [
      "<bound method NDFrame.head of    subject ID   age    ethnicity  gender\n",
      "0           0    25  Han Chinese       M\n",
      "1           1    24  Han Chinese       M\n",
      "2           2    31      English       M\n",
      "3           3    28  Han Chinese       F\n",
      "4           4    24      Bengali       M\n",
      "5           5    24  Han Chinese       M\n",
      "6           6    24  Han Chinese       M\n",
      "7           7    25  Han Chinese       M\n",
      "8           8    25  Han Chinese       M\n",
      "9           9    24  Han Chinese       F>\n"
     ]
    }
   ],
   "source": [
    "print(subs.head)"
   ]
  },
  {
   "cell_type": "code",
   "execution_count": 30,
   "metadata": {},
   "outputs": [
    {
     "name": "stdout",
     "output_type": "stream",
     "text": [
      "   F  M  Bengali  English  Han Chinese  subject ID   age\n",
      "0  0  1        0        0            1           0    25\n",
      "1  0  1        0        0            1           1    24\n",
      "2  0  1        0        1            0           2    31\n",
      "3  1  0        0        0            1           3    28\n",
      "4  0  1        1        0            0           4    24\n"
     ]
    }
   ],
   "source": [
    "for col in list(subs.columns):\n",
    "\tif subs[col].dtype == 'object':\n",
    "\t\tdums=pd.get_dummies(subs[col])\n",
    "\t\tsubs = pd.concat([dums,subs], axis=1, join='outer')\n",
    "\t\tsubs = subs.drop(col, 1)\n",
    "\n",
    "\n",
    "print(subs.head())"
   ]
  },
  {
   "cell_type": "code",
   "execution_count": 31,
   "metadata": {},
   "outputs": [
    {
     "data": {
      "text/html": [
       "<div>\n",
       "<style scoped>\n",
       "    .dataframe tbody tr th:only-of-type {\n",
       "        vertical-align: middle;\n",
       "    }\n",
       "\n",
       "    .dataframe tbody tr th {\n",
       "        vertical-align: top;\n",
       "    }\n",
       "\n",
       "    .dataframe thead th {\n",
       "        text-align: right;\n",
       "    }\n",
       "</style>\n",
       "<table border=\"1\" class=\"dataframe\">\n",
       "  <thead>\n",
       "    <tr style=\"text-align: right;\">\n",
       "      <th></th>\n",
       "      <th>SubjectID</th>\n",
       "      <th>VideoID</th>\n",
       "      <th>Attention</th>\n",
       "      <th>Mediation</th>\n",
       "      <th>Raw</th>\n",
       "      <th>Delta</th>\n",
       "      <th>Theta</th>\n",
       "      <th>Alpha1</th>\n",
       "      <th>Alpha2</th>\n",
       "      <th>Beta1</th>\n",
       "      <th>Beta2</th>\n",
       "      <th>Gamma1</th>\n",
       "      <th>Gamma2</th>\n",
       "      <th>predefinedlabel</th>\n",
       "      <th>user-definedlabeln</th>\n",
       "    </tr>\n",
       "  </thead>\n",
       "  <tbody>\n",
       "    <tr>\n",
       "      <th>0</th>\n",
       "      <td>0.0</td>\n",
       "      <td>0.0</td>\n",
       "      <td>56.0</td>\n",
       "      <td>43.0</td>\n",
       "      <td>278.0</td>\n",
       "      <td>301963.0</td>\n",
       "      <td>90612.0</td>\n",
       "      <td>33735.0</td>\n",
       "      <td>23991.0</td>\n",
       "      <td>27946.0</td>\n",
       "      <td>45097.0</td>\n",
       "      <td>33228.0</td>\n",
       "      <td>8293.0</td>\n",
       "      <td>0.0</td>\n",
       "      <td>0.0</td>\n",
       "    </tr>\n",
       "    <tr>\n",
       "      <th>1</th>\n",
       "      <td>0.0</td>\n",
       "      <td>0.0</td>\n",
       "      <td>40.0</td>\n",
       "      <td>35.0</td>\n",
       "      <td>-50.0</td>\n",
       "      <td>73787.0</td>\n",
       "      <td>28083.0</td>\n",
       "      <td>1439.0</td>\n",
       "      <td>2240.0</td>\n",
       "      <td>2746.0</td>\n",
       "      <td>3687.0</td>\n",
       "      <td>5293.0</td>\n",
       "      <td>2740.0</td>\n",
       "      <td>0.0</td>\n",
       "      <td>0.0</td>\n",
       "    </tr>\n",
       "    <tr>\n",
       "      <th>2</th>\n",
       "      <td>0.0</td>\n",
       "      <td>0.0</td>\n",
       "      <td>47.0</td>\n",
       "      <td>48.0</td>\n",
       "      <td>101.0</td>\n",
       "      <td>758353.0</td>\n",
       "      <td>383745.0</td>\n",
       "      <td>201999.0</td>\n",
       "      <td>62107.0</td>\n",
       "      <td>36293.0</td>\n",
       "      <td>130536.0</td>\n",
       "      <td>57243.0</td>\n",
       "      <td>25354.0</td>\n",
       "      <td>0.0</td>\n",
       "      <td>0.0</td>\n",
       "    </tr>\n",
       "    <tr>\n",
       "      <th>3</th>\n",
       "      <td>0.0</td>\n",
       "      <td>0.0</td>\n",
       "      <td>47.0</td>\n",
       "      <td>57.0</td>\n",
       "      <td>-5.0</td>\n",
       "      <td>2012240.0</td>\n",
       "      <td>129350.0</td>\n",
       "      <td>61236.0</td>\n",
       "      <td>17084.0</td>\n",
       "      <td>11488.0</td>\n",
       "      <td>62462.0</td>\n",
       "      <td>49960.0</td>\n",
       "      <td>33932.0</td>\n",
       "      <td>0.0</td>\n",
       "      <td>0.0</td>\n",
       "    </tr>\n",
       "    <tr>\n",
       "      <th>4</th>\n",
       "      <td>0.0</td>\n",
       "      <td>0.0</td>\n",
       "      <td>44.0</td>\n",
       "      <td>53.0</td>\n",
       "      <td>-8.0</td>\n",
       "      <td>1005145.0</td>\n",
       "      <td>354328.0</td>\n",
       "      <td>37102.0</td>\n",
       "      <td>88881.0</td>\n",
       "      <td>45307.0</td>\n",
       "      <td>99603.0</td>\n",
       "      <td>44790.0</td>\n",
       "      <td>29749.0</td>\n",
       "      <td>0.0</td>\n",
       "      <td>0.0</td>\n",
       "    </tr>\n",
       "  </tbody>\n",
       "</table>\n",
       "</div>"
      ],
      "text/plain": [
       "   SubjectID  VideoID  Attention  Mediation    Raw      Delta     Theta  \\\n",
       "0        0.0      0.0       56.0       43.0  278.0   301963.0   90612.0   \n",
       "1        0.0      0.0       40.0       35.0  -50.0    73787.0   28083.0   \n",
       "2        0.0      0.0       47.0       48.0  101.0   758353.0  383745.0   \n",
       "3        0.0      0.0       47.0       57.0   -5.0  2012240.0  129350.0   \n",
       "4        0.0      0.0       44.0       53.0   -8.0  1005145.0  354328.0   \n",
       "\n",
       "     Alpha1   Alpha2    Beta1     Beta2   Gamma1   Gamma2  predefinedlabel  \\\n",
       "0   33735.0  23991.0  27946.0   45097.0  33228.0   8293.0              0.0   \n",
       "1    1439.0   2240.0   2746.0    3687.0   5293.0   2740.0              0.0   \n",
       "2  201999.0  62107.0  36293.0  130536.0  57243.0  25354.0              0.0   \n",
       "3   61236.0  17084.0  11488.0   62462.0  49960.0  33932.0              0.0   \n",
       "4   37102.0  88881.0  45307.0   99603.0  44790.0  29749.0              0.0   \n",
       "\n",
       "   user-definedlabeln  \n",
       "0                 0.0  \n",
       "1                 0.0  \n",
       "2                 0.0  \n",
       "3                 0.0  \n",
       "4                 0.0  "
      ]
     },
     "execution_count": 31,
     "metadata": {},
     "output_type": "execute_result"
    }
   ],
   "source": [
    "df.head()"
   ]
  },
  {
   "cell_type": "code",
   "execution_count": 17,
   "metadata": {},
   "outputs": [
    {
     "name": "stdout",
     "output_type": "stream",
     "text": [
      "0.8860710105345299\n"
     ]
    }
   ],
   "source": [
    "import xgboost as xgb\n",
    "\n",
    "xg = xgb.XGBClassifier(objective='binary:logistic', n_estimators=100,seed=1)\n",
    "xg.fit(X_train,y_train)\n",
    "predict=xg.predict(X_test)\n",
    "print(xg.score(X_test,y_test))"
   ]
  },
  {
   "cell_type": "code",
   "execution_count": 26,
   "metadata": {},
   "outputs": [
    {
     "name": "stdout",
     "output_type": "stream",
     "text": [
      "0.9334027055150884\n",
      "0.9336628511966701\n",
      "0.9336628511966701\n",
      "0.9339229968782519\n",
      "0.9336628511966701\n",
      "0.9336628511966701\n",
      "0.9336628511966701\n",
      "0.9339229968782519\n",
      "0.9323621227887617\n",
      "0.9326222684703434\n",
      "0.93210197710718\n",
      "0.9326222684703434\n",
      "0.9315816857440167\n",
      "0.9334027055150884\n",
      "0.9334027055150884\n",
      "0.9341831425598335\n",
      "0.9341831425598335\n",
      "0.9341831425598335\n",
      "0.9326222684703434\n",
      "0.9328824141519251\n",
      "0.9328824141519251\n",
      "0.9365244536940687\n",
      "0.9360041623309053\n",
      "0.9365244536940687\n",
      "0.9365244536940687\n",
      "0.9365244536940687\n",
      "0.9365244536940687\n",
      "0.9367845993756504\n",
      "0.9365244536940687\n",
      "0.936264308012487\n",
      "0.9360041623309053\n",
      "0.9360041623309053\n",
      "0.936264308012487\n",
      "0.936264308012487\n",
      "0.9375650364203955\n",
      "0.9393860561914672\n",
      "0.9399063475546305\n",
      "0.9399063475546305\n",
      "0.9399063475546305\n",
      "0.9396462018730489\n",
      "0.940426638917794\n",
      "0.940426638917794\n",
      "0.941207075962539\n",
      "0.9396462018730489\n",
      "0.9386056191467221\n",
      "0.9399063475546305\n",
      "0.9406867845993756\n",
      "0.9386056191467221\n",
      "0.9388657648283039\n",
      "0.9386056191467221\n",
      "0.9388657648283039\n",
      "0.9388657648283039\n",
      "0.9386056191467221\n",
      "0.9380853277835588\n",
      "0.9380853277835588\n",
      "0.9380853277835588\n",
      "0.9380853277835588\n",
      "0.9383454734651405\n",
      "0.9383454734651405\n",
      "0.9391259105098856\n",
      "0.9417273673257024\n",
      "0.9414672216441207\n",
      "0.9419875130072841\n",
      "0.9419875130072841\n",
      "0.9422476586888657\n",
      "0.9427679500520292\n",
      "0.9430280957336108\n",
      "0.9435483870967742\n",
      "0.9445889698231009\n",
      "0.9438085327783559\n",
      "0.9440686784599376\n",
      "0.9445889698231009\n",
      "0.9445889698231009\n",
      "0.9451092611862643\n",
      "0.9448491155046826\n",
      "0.9443288241415192\n",
      "0.9448491155046826\n",
      "0.9445889698231009\n",
      "0.9445889698231009\n",
      "0.945369406867846\n",
      "0.9451092611862643\n",
      "0.9458896982310093\n",
      "0.9458896982310093\n",
      "0.946149843912591\n",
      "0.9471904266389178\n",
      "0.9487513007284079\n",
      "0.9484911550468262\n",
      "0.9487513007284079\n",
      "0.9487513007284079\n",
      "0.9487513007284079\n",
      "0.9487513007284079\n",
      "0.9479708636836629\n",
      "0.9479708636836629\n",
      "0.9474505723204995\n",
      "0.9477107180020812\n",
      "0.9477107180020812\n",
      "0.9495317377731529\n",
      "0.9495317377731529\n",
      "0.9492715920915713\n",
      "0.9487513007284079\n"
     ]
    }
   ],
   "source": [
    "import xgboost as xgb\n",
    "for i in range(200,300)\n",
    "    xg = xgb.XGBClassifier(objective='binary:logistic', n_estimators=i, seed=1)\n",
    "    xg.fit(X_train,y_train)\n",
    "    predict=xg.predict(X_test)\n",
    "    print(xg.score(X_test,y_test))"
   ]
  },
  {
   "cell_type": "code",
   "execution_count": null,
   "metadata": {},
   "outputs": [],
   "source": []
  }
 ],
 "metadata": {
  "kernelspec": {
   "display_name": "Python 3",
   "language": "python",
   "name": "python3"
  },
  "language_info": {
   "codemirror_mode": {
    "name": "ipython",
    "version": 3
   },
   "file_extension": ".py",
   "mimetype": "text/x-python",
   "name": "python",
   "nbconvert_exporter": "python",
   "pygments_lexer": "ipython3",
   "version": "3.7.3"
  }
 },
 "nbformat": 4,
 "nbformat_minor": 2
}
